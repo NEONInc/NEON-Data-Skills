{
 "cells": [
  {
   "cell_type": "markdown",
   "metadata": {},
   "source": [
    "---\n",
    "syncID: c91d556c8fad4570a33a1aaa550a561d\n",
    "title: \"Plot a Spectral Signature in Python - Tiled Data\"\n",
    "description: \"Learn how to extract and plot a spectral profile from a single pixel of a reflectance band using NEON tiled hyperspectral data.\" \n",
    "dateCreated: 2018-07-04 \n",
    "authors: Bridget Hass\n",
    "contributors: Donal O'Leary\n",
    "estimatedTime: \n",
    "packagesLibraries: numpy, pandas, gdal, matplotlib, h5py,IPython.display\n",
    "topics: hyperspectral-remote-sensing, HDF5, remote-sensing\n",
    "languagesTool: python\n",
    "dataProduct: NEON.DP3.30006, NEON.DP3.30008\n",
    "code1: https://raw.githubusercontent.com/NEONScience/NEON-Data-Skills/main/tutorials/Python/Hyperspectral/indices/Plot_Spectral_Signature_Tiles_py/Plot_Spectral_Signature_Tiles_py.ipynb\n",
    "tutorialSeries: intro-hsi-tiles-py-series\n",
    "urlTitle: plot-spec-sig-tiles-python\n",
    "---"
   ]
  },
  {
   "cell_type": "markdown",
   "metadata": {},
   "source": [
    "In this tutorial, we will learn how to extract and plot a spectral profile \n",
    "from a single pixel of a reflectance band in a NEON hyperspectral HDF5 file. \n",
    "\n",
    "This tutorial uses the mosaiced or tiled NEON data product. For a tutorial \n",
    "using the flightline data, please see <a href=\"/plot-spec-sig-python\" target=\"_blank\"> Plot a Spectral Signature in Python - Flightline Data</a>. \n",
    "\n",
    "<div id=\"ds-objectives\" markdown=\"1\">\n",
    "\n",
    "### Objectives\n",
    "After completing this tutorial, you will be able to:\n",
    "\n",
    "* Plot the spectral signature of a single pixel \n",
    "* Remove bad band windows from a spectra\n",
    "* Use a widget to interactively look at spectra of various pixels\n",
    "* Calculate the mean spectra over multiple pixels\n",
    "\n",
    "### Install Python Packages\n",
    "\n",
    "* **numpy**\n",
    "* **pandas**\n",
    "* **gdal** \n",
    "* **matplotlib** \n",
    "* **h5py** \n",
    "* **IPython.display**\n",
    "\n",
    "\n",
    "### Download Data\n",
    "\n",
    "To complete this tutorial, you will use data available from the NEON 2017 Data\n",
    "Institute.\n",
    "\n",
    "This tutorial uses the following files:\n",
    "\n",
    "<ul>\n",
    "    <li> <a href=\"https://www.neonscience.org/sites/default/files/neon_aop_spectral_python_functions_tiled_data.zip\">neon_aop_spectral_python_functions_tiled_data.zip (10 KB)</a> <- Click to Download</li>\n",
    "    <li><a href=\"https://ndownloader.figshare.com/files/25752665\" target=\"_blank\">NEON_D02_SERC_DP3_368000_4306000_reflectance.h5 (618 MB)</a> <- Click to Download</li>\n",
    "</ul>\n",
    "\n",
    "<a href=\"https://ndownloader.figshare.com/files/25752665\" class=\"link--button link--arrow\">\n",
    "Download Dataset</a>\n",
    "\n",
    "The LiDAR and imagery data used to create this raster teaching data subset \n",
    "were collected over the \n",
    "<a href=\"http://www.neonscience.org/\" target=\"_blank\"> National Ecological Observatory Network's</a> \n",
    "<a href=\"http://www.neonscience.org/science-design/field-sites/\" target=\"_blank\" >field sites</a>\n",
    "and processed at NEON headquarters.\n",
    "The entire dataset can be accessed on the \n",
    "<a href=\"http://data.neonscience.org\" target=\"_blank\"> NEON data portal</a>.\n",
    "\n",
    "</div>\n"
   ]
  },
  {
   "cell_type": "markdown",
   "metadata": {},
   "source": [
    "In this exercise, we will learn how to extract and plot a spectral profile from a single pixel of a reflectance band in a NEON hyperspectral hdf5 file. To do this, we will use the `aop_h5refl2array` function to read in and clean our h5 reflectance data, and the Python package `pandas` to create a dataframe for the reflectance and associated wavelength data.  \n",
    "\n",
    "## Spectral Signatures\n",
    "\n",
    "A spectral signature is a plot of the amount of light energy reflected by an object throughout the range of wavelengths in the electromagnetic spectrum. The spectral signature of an object conveys useful information about its structural and chemical composition. We can use these signatures to identify and classify different objects from a spectral image. \n",
    "\n",
    "For example, vegetation has a distinct spectral signature.\n",
    "\n",
    "<figure>\n",
    "\t<a href=\"https://raw.githubusercontent.com/NEONScience/NEON-Data-Skills/main/graphics/hyperspectral-general/vegetationSpectrum_MarkElowitz.png\">\n",
    "\t<img src=\"https://raw.githubusercontent.com/NEONScience/NEON-Data-Skills/main/graphics/hyperspectral-general/vegetationSpectrum_MarkElowitz.png\"></a>\n",
    "\t<figcaption> Spectral signature of vegetation. Source: Mark Elowitz \n",
    "\t</figcaption>\n",
    "</figure>\n",
    "\n",
    "Vegetation has a unique spectral signature characterized by high reflectance in the near infrared wavelengths, and much lower reflectance in the green portion of the visible spectrum. We can extract reflectance values in the NIR and visible spectrums from hyperspectral data in order to map vegetation on the earth's surface. You can also use spectral curves as a proxy for vegetation health. We will explore this concept more in the next lesson, where we will caluclate vegetation indices. \n",
    "\n",
    "\n",
    "    \n",
    "<figure>\n",
    "\t<a href=\"https://raw.githubusercontent.com/NEONScience/NEON-Data-Skills/main/graphics/hyperspectral-general/ReflectanceCurves_waterVegSoil.png\">\n",
    "\t<img src=\"https://raw.githubusercontent.com/NEONScience/NEON-Data-Skills/main/graphics/hyperspectral-general/ReflectanceCurves_waterVegSoil.png\"></a>\n",
    "\t<figcaption> Example spectra of water, green grass, dry grass, and soil. Source: National Ecological Observatory Network (NEON)  \n",
    "\t</figcaption>\n",
    "</figure>\n"
   ]
  },
  {
   "cell_type": "code",
   "execution_count": null,
   "metadata": {},
   "outputs": [],
   "source": [
    "import numpy as np\n",
    "import matplotlib.pyplot as plt\n",
    "%matplotlib inline \n",
    "import warnings\n",
    "warnings.filterwarnings('ignore') #don't display warnings"
   ]
  },
  {
   "cell_type": "markdown",
   "metadata": {},
   "source": [
    "Import the hyperspectral functions file that you downloaded into the variable `neon_hs` (for neon hyperspectral):"
   ]
  },
  {
   "cell_type": "code",
   "execution_count": null,
   "metadata": {},
   "outputs": [],
   "source": [
    "import os\n",
    "# Note: you will need to update this filepath according to your local machine\n",
    "os.chdir(\"/Users/olearyd/Git/data/\")\n",
    "import neon_aop_hyperspectral as neon_hs"
   ]
  },
  {
   "cell_type": "code",
   "execution_count": null,
   "metadata": {},
   "outputs": [],
   "source": [
    "# Note: you will need to update this filepath according to your local machine\n",
    "sercRefl, sercRefl_md = neon_hs.aop_h5refl2array('/Users/olearyd/Git/data/NEON_D02_SERC_DP3_368000_4306000_reflectance.h5')"
   ]
  },
  {
   "cell_type": "markdown",
   "metadata": {},
   "source": [
    "Optionally, you can view the data stored in the metadata dictionary, and print the minimum, maximum, and mean reflectance values in the tile. In order to handle any `nan` values, use `Numpy` `nanmin` `nanmax` and `nanmean`. \n",
    "\n",
    "```python\n",
    "for item in sorted(sercRefl_md):\n",
    "    print(item + ':',sercRefl_md[item])\n",
    "\n",
    "print('SERC Tile Reflectance Stats:')\n",
    "print('min:',np.nanmin(sercRefl))\n",
    "print('max:',round(np.nanmax(sercRefl),2))\n",
    "print('mean:',round(np.nanmean(sercRefl),2))\n",
    "```"
   ]
  },
  {
   "cell_type": "markdown",
   "metadata": {},
   "source": [
    "For reference, plot the red band of the tile, using splicing, and the `plot_aop_refl` function:"
   ]
  },
  {
   "cell_type": "code",
   "execution_count": null,
   "metadata": {},
   "outputs": [],
   "source": [
    "sercb56 = sercRefl[:,:,55]\n",
    "\n",
    "neon_hs.plot_aop_refl(sercb56,\n",
    "                      sercRefl_md['spatial extent'],\n",
    "                      colorlimit=(0,0.3),\n",
    "                      title='SERC Tile Band 56',\n",
    "                      cmap_title='Reflectance',\n",
    "                      colormap='gist_earth')"
   ]
  },
  {
   "cell_type": "markdown",
   "metadata": {},
   "source": [
    "We can use `pandas` to create a dataframe containing the wavelength and reflectance values for a single pixel - in this example, we'll look at the center pixel of the tile (500,500). "
   ]
  },
  {
   "cell_type": "code",
   "execution_count": null,
   "metadata": {},
   "outputs": [],
   "source": [
    "import pandas as pd"
   ]
  },
  {
   "cell_type": "markdown",
   "metadata": {},
   "source": [
    "To extract all reflectance values from a single pixel, use splicing as we did before to select a single band, but now we need to specify (y,x) and select all bands (using `:`)."
   ]
  },
  {
   "cell_type": "code",
   "execution_count": null,
   "metadata": {},
   "outputs": [],
   "source": [
    "serc_pixel_df = pd.DataFrame()\n",
    "serc_pixel_df['reflectance'] = sercRefl[500,500,:]\n",
    "serc_pixel_df['wavelengths'] = sercRefl_md['wavelength']"
   ]
  },
  {
   "cell_type": "markdown",
   "metadata": {},
   "source": [
    "We can preview the first and last five values of the dataframe using `head` and `tail`:"
   ]
  },
  {
   "cell_type": "code",
   "execution_count": null,
   "metadata": {},
   "outputs": [],
   "source": [
    "print(serc_pixel_df.head(5))\n",
    "print(serc_pixel_df.tail(5))"
   ]
  },
  {
   "cell_type": "markdown",
   "metadata": {},
   "source": [
    "We can now plot the spectra, stored in this dataframe structure. `pandas` has a built in plotting routine, which can be called by typing `.plot` at the end of the dataframe. "
   ]
  },
  {
   "cell_type": "code",
   "execution_count": null,
   "metadata": {},
   "outputs": [],
   "source": [
    "serc_pixel_df.plot(x='wavelengths',y='reflectance',kind='scatter',edgecolor='none')\n",
    "plt.title('Spectral Signature for SERC Pixel (500,500)')\n",
    "ax = plt.gca() \n",
    "ax.set_xlim([np.min(serc_pixel_df['wavelengths']),np.max(serc_pixel_df['wavelengths'])])\n",
    "ax.set_ylim([np.min(serc_pixel_df['reflectance']),np.max(serc_pixel_df['reflectance'])])\n",
    "ax.set_xlabel(\"Wavelength, nm\")\n",
    "ax.set_ylabel(\"Reflectance\")\n",
    "ax.grid('on')"
   ]
  },
  {
   "cell_type": "markdown",
   "metadata": {},
   "source": [
    "##  Water Vapor Band Windows \n",
    "We can see from the spectral profile above that there are spikes in reflectance around ~1400nm and ~1800nm. These result from water vapor which absorbs light between wavelengths 1340-1445 nm and 1790-1955 nm. The atmospheric correction that converts radiance to reflectance subsequently results in a spike at these two bands. The wavelengths of these water vapor bands is stored in the reflectance attributes, which is saved in the reflectance metadata dictionary created with `h5refl2array`: "
   ]
  },
  {
   "cell_type": "code",
   "execution_count": null,
   "metadata": {},
   "outputs": [],
   "source": [
    "bbw1 = sercRefl_md['bad band window1']; \n",
    "bbw2 = sercRefl_md['bad band window2']; \n",
    "print('Bad Band Window 1:',bbw1)\n",
    "print('Bad Band Window 2:',bbw2)"
   ]
  },
  {
   "cell_type": "markdown",
   "metadata": {},
   "source": [
    "Below we repeat the plot we made above, but this time draw in the edges of the water vapor band windows that we need to remove. "
   ]
  },
  {
   "cell_type": "code",
   "execution_count": null,
   "metadata": {},
   "outputs": [],
   "source": [
    "serc_pixel_df.plot(x='wavelengths',y='reflectance',kind='scatter',edgecolor='none');\n",
    "plt.title('Spectral Signature for SERC Pixel (500,500)')\n",
    "ax1 = plt.gca(); ax1.grid('on')\n",
    "ax1.set_xlim([np.min(serc_pixel_df['wavelengths']),np.max(serc_pixel_df['wavelengths'])]); \n",
    "ax1.set_ylim(0,0.5)\n",
    "ax1.set_xlabel(\"Wavelength, nm\"); ax1.set_ylabel(\"Reflectance\")\n",
    "\n",
    "#Add in red dotted lines to show boundaries of bad band windows:\n",
    "ax1.plot((1340,1340),(0,1.5), 'r--')\n",
    "ax1.plot((1445,1445),(0,1.5), 'r--')\n",
    "ax1.plot((1790,1790),(0,1.5), 'r--')\n",
    "ax1.plot((1955,1955),(0,1.5), 'r--')"
   ]
  },
  {
   "cell_type": "markdown",
   "metadata": {},
   "source": [
    "We can now set these bad band windows to `nan`, along with the last 10 bands, which are also often noisy (as seen in the spectral profile plotted above). First make a copy of the wavelengths so that the original metadata doesn't change."
   ]
  },
  {
   "cell_type": "code",
   "execution_count": null,
   "metadata": {},
   "outputs": [],
   "source": [
    "import copy\n",
    "w = copy.copy(sercRefl_md['wavelength']) #make a copy to deal with the mutable data type\n",
    "w[((w >= 1340) & (w <= 1445)) | ((w >= 1790) & (w <= 1955))]=np.nan #can also use bbw1[0] or bbw1[1] to avoid hard-coding in\n",
    "w[-10:]=np.nan;  # the last 10 bands sometimes have noise - best to eliminate\n",
    "#print(w) #optionally print wavelength values to show that -9999 values are replaced with nan"
   ]
  },
  {
   "cell_type": "markdown",
   "metadata": {},
   "source": [
    "## Interactive Spectra Visualization\n",
    "\n",
    "Finally, we can create a `widget` to interactively view the spectra of different pixels along the reflectance tile. Run the two cells below, and interact with them to gain a better sense of what the spectra look like for different materials on the ground. "
   ]
  },
  {
   "cell_type": "code",
   "execution_count": null,
   "metadata": {},
   "outputs": [],
   "source": [
    "#define index corresponding to nan values:\n",
    "nan_ind = np.argwhere(np.isnan(w))\n",
    "\n",
    "#define refl_band, refl, and metadata \n",
    "refl_band = sercb56\n",
    "refl = copy.copy(sercRefl)\n",
    "metadata = copy.copy(sercRefl_md)"
   ]
  },
  {
   "cell_type": "code",
   "execution_count": null,
   "metadata": {},
   "outputs": [],
   "source": [
    "from IPython.html.widgets import *\n",
    "\n",
    "def spectraPlot(pixel_x,pixel_y):\n",
    "\n",
    "    reflectance = refl[pixel_y,pixel_x,:]\n",
    "    reflectance[nan_ind]=np.nan\n",
    "    \n",
    "    pixel_df = pd.DataFrame()\n",
    "    pixel_df['reflectance'] = reflectance\n",
    "    pixel_df['wavelengths'] = w\n",
    "\n",
    "    fig = plt.figure(figsize=(15,5))\n",
    "    ax1 = fig.add_subplot(1,2,1)\n",
    "\n",
    "    # fig, axes = plt.subplots(nrows=1, ncols=2)\n",
    "    pixel_df.plot(ax=ax1,x='wavelengths',y='reflectance',kind='scatter',edgecolor='none');\n",
    "    ax1.set_title('Spectra of Pixel (' + str(pixel_x) + ',' + str(pixel_y) + ')')\n",
    "    ax1.set_xlim([np.min(metadata['wavelength']),np.max(metadata['wavelength'])]); \n",
    "    ax1.set_ylim([np.min(pixel_df['reflectance']),np.max(pixel_df['reflectance']*1.1)])\n",
    "    ax1.set_xlabel(\"Wavelength, nm\"); ax1.set_ylabel(\"Reflectance\")\n",
    "    ax1.grid('on')\n",
    "\n",
    "    ax2 = fig.add_subplot(1,2,2)\n",
    "    plot = plt.imshow(refl_band,extent=metadata['spatial extent'],clim=(0,0.1)); \n",
    "    plt.title('Pixel Location'); \n",
    "    cbar = plt.colorbar(plot,aspect=20); plt.set_cmap('gist_earth'); \n",
    "    cbar.set_label('Reflectance',rotation=90,labelpad=20); \n",
    "    ax2.ticklabel_format(useOffset=False, style='plain') #do not use scientific notation \n",
    "    rotatexlabels = plt.setp(ax2.get_xticklabels(),rotation=90) #rotate x tick labels 90 degrees\n",
    "    \n",
    "    ax2.plot(metadata['spatial extent'][0]+pixel_x,metadata['spatial extent'][3]-pixel_y,'s',markersize=5,color='red')\n",
    "    ax2.set_xlim(metadata['spatial extent'][0],metadata['spatial extent'][1])\n",
    "    ax2.set_ylim(metadata['spatial extent'][2],metadata['spatial extent'][3])\n",
    "    \n",
    "interact(spectraPlot, pixel_x = (0,refl.shape[1]-1,1),pixel_y=(0,refl.shape[0]-1,1))"
   ]
  }
 ],
 "metadata": {
  "kernelspec": {
   "display_name": "py37",
   "language": "python",
   "name": "py37"
  },
  "language_info": {
   "codemirror_mode": {
    "name": "ipython",
    "version": 3
   },
   "file_extension": ".py",
   "mimetype": "text/x-python",
   "name": "python",
   "nbconvert_exporter": "python",
   "pygments_lexer": "ipython3",
   "version": "3.7.7"
  }
 },
 "nbformat": 4,
 "nbformat_minor": 1
}
