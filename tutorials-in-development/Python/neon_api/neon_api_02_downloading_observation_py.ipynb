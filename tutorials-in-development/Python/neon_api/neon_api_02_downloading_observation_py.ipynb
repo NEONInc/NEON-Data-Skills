{
 "cells": [
  {
   "cell_type": "markdown",
   "metadata": {},
   "source": [
    "---\n",
    "syncID: \n",
    "title: \"Downlaoding NEON Observation Data with Python\"\n",
    "description: \"\"\n",
    "dateCreated: 2020-04-24\n",
    "authors: Maxwell J. Burner\n",
    "contributors: Donal O'Leary\n",
    "estimatedTime: \n",
    "packagesLibraries: requests, json, pandas\n",
    "topics: api, data management\n",
    "languagesTool: python\n",
    "dataProduct: DP1.10003.001\n",
    "code1: \n",
    "tutorialSeries: python-neon-api-series\n",
    "urlTitle: python-neon-api-02-downloading-observational\n",
    "---"
   ]
  },
  {
   "cell_type": "markdown",
   "metadata": {},
   "source": [
    "In this tutorial we will learn to download Observational Sampling (OS) data from the NEON API into the Python environment."
   ]
  },
  {
   "cell_type": "markdown",
   "metadata": {},
   "source": [
    "<div id=\"ds-objectives\" markdown=\"1\">\n",
    "\n",
    "### Objectives\n",
    "After completing this tutorial, you will be able to:\n",
    "\n",
    "* Navigate a NEON API request from the *data/* endpoint\n",
    "* Describe the naming conventions of NEON OS data files\n",
    "* Understand how to download NEON observational data using the Python Pandas library\n",
    "* Describe the basic components of a Pandas dataframe\n",
    "\n",
    "\n",
    "### Install Python Packages\n",
    "\n",
    "* **requests**\n",
    "* **json** \n",
    "* **numpy**\n",
    "* **pandas**\n",
    "\n",
    "We will not actually use the NumPy package in this tutorial; it is listed here because the Pandas package is built on top of NumPy, and requires that the latter be present.\n",
    "\n",
    "</div>"
   ]
  },
  {
   "cell_type": "markdown",
   "metadata": {},
   "source": [
    "In this tutorial we will learn how to download specific NEON data files into Python. We will specifically look at how to use the Pandas package to read in CSV files of observational data.\n",
    "\n",
    "In the previous tutorial, we saw some of the data files containing information on land bird breeding counts. These are an example of NEON *observational data*. NEON has three basic types of data: Observational Sampling (OS), Instrumentation Sampling (IS), and Remote Sensing or Airborne Observation Platform data (AOP). The process for requesting data is about the same for all three, but downloading and navigating the data tends to be very different depending on which specific data product we are using.\n",
    "\n",
    "Here we will discuss downloading observational data, as it tends to be the simplest to handle."
   ]
  },
  {
   "cell_type": "markdown",
   "metadata": {},
   "source": [
    "## Libraries Downloaded\n",
    "\n",
    "In addition to used requests and json packages again, we will use the Pandas package to read in the data. Pandas is a library that adds data frame objects to Python, based on the data frames of the R programming language; these offer a great way to store and manipulate tabular data."
   ]
  },
  {
   "cell_type": "code",
   "execution_count": null,
   "metadata": {},
   "outputs": [],
   "source": [
    "import requests\n",
    "import json\n",
    "import pandas as pd"
   ]
  },
  {
   "cell_type": "code",
   "execution_count": null,
   "metadata": {},
   "outputs": [],
   "source": [
    "SERVER = 'http://data.neonscience.org/api/v0/'\n",
    "SITECODE = 'TEAK'\n",
    "PRODUCTCODE = 'DP1.10003.001'"
   ]
  },
  {
   "cell_type": "markdown",
   "metadata": {},
   "source": [
    "## Look up Data Files\n",
    "\n",
    "We already know from the last tutorial that landbird breeding counts (DP1.10003.001) are available at the Lower Teakettle site for 2018-06. We can again make a request to see what files in particular are available."
   ]
  },
  {
   "cell_type": "code",
   "execution_count": null,
   "metadata": {},
   "outputs": [],
   "source": [
    "#Make Request\n",
    "data_request = requests.get(SERVER+'data/'+PRODUCTCODE+'/'+SITECODE+'/'+'2018-06')\n",
    "data_json = data_request.json()"
   ]
  },
  {
   "cell_type": "code",
   "execution_count": null,
   "metadata": {
    "scrolled": true
   },
   "outputs": [],
   "source": [
    "#View names of files\n",
    "for file in data_json['data']['files']:\n",
    "    print(file['name'])"
   ]
  },
  {
   "cell_type": "markdown",
   "metadata": {},
   "source": [
    "Let's take a closer look at a file name."
   ]
  },
  {
   "cell_type": "code",
   "execution_count": null,
   "metadata": {},
   "outputs": [],
   "source": [
    "print(data_json['data']['files'][6]['name'])"
   ]
  },
  {
   "cell_type": "markdown",
   "metadata": {},
   "source": [
    "The format for most NEON data product file names is:\n",
    "\n",
    "**NEON.D[two-digit domain number].[site code].[data product ID].[file-specific name].[date of file creation].[file extension]**\n",
    "\n",
    "So the file whose name we singled out is domain 17, Lower Teakettle Site, Breeding Landbird point counts (DP1.10003.001), brd_perpoint.2018-06.basic, created 2019-11-07 at 15:32:35 Universal Time. The file name brd_perpoint.2018-06.basic indicates that this is the 'basic' version of bird counts by point, observed in June 2018.\n",
    "\n",
    "Bird counts and other observational data are usually kept in CSV files in the NEON database. Often the data for a particular month-site combination will be available in through two different .csv files that represent two different 'download packages'; a 'basic' package storing only the main measurements, and an 'expanded' package that also lists the uncertainties involved in each measurement. Let's save the URL for the basic count data CSV file."
   ]
  },
  {
   "cell_type": "code",
   "execution_count": null,
   "metadata": {},
   "outputs": [],
   "source": [
    "#Print names and URLs of files with birdcount data\n",
    "for file in data_json['data']['files']:\n",
    "    if('countdata' in file['name']): #Show all files with 'countdata' in their name\n",
    "        print(file['name'],file['url'])\n",
    "        if('basic' in file['name']):\n",
    "            bird_count_url = file['url'] #save url of file with basic bird count data\n"
   ]
  },
  {
   "cell_type": "markdown",
   "metadata": {},
   "source": [
    "## Read file into Pandas Dataframe\n",
    "\n",
    "There are a couple options for reading CSV files into Python. For files read directly from NEON's data repository, one popular option is the 'read_csv' function from the Pandas package. This function converts the contents of the target file into a pandas dataframe object, and has the added advantage of being able to read data files accessed through the web (Python has its own built-in package for reading CSV files, but this package can only read files present on your machine)."
   ]
  },
  {
   "cell_type": "code",
   "execution_count": null,
   "metadata": {},
   "outputs": [],
   "source": [
    "#Read bird count CSV data into a Pandas Dataframe\n",
    "df_bird = pd.read_csv(bird_count_url)"
   ]
  },
  {
   "cell_type": "markdown",
   "metadata": {},
   "source": [
    "Pandas is a popular Python package for data analysis and data manipulation. The package implements dataframe objects based on the dataframes used in the R programming language, and uses these objects for storing and manipulating tabular data.\n",
    "\n",
    "A dataframe is a two-dimensional table of data, a grid built of rows and columns of values. Generally the columns correspond to the different variables being measured, while the rows correspond to each entry or measurement taken (in this case, each bird counted). Dataframes also have a header containing labels for each column, and an index containing labels for each row; both are 'index' objects stored as attributes of the dataframe object.\n",
    "\n",
    "Python dataframes store their contents, header, and index in different attributes of the dataframe object. Other attributes contain metadata such as the overall shape of the dataframe, and the data type of each column.\n",
    "\n",
    "You can find more about Pandas at their [official site](https://pandas.pydata.org/), which includes a tutorials page [here](https://pandas.pydata.org/pandas-docs/version/0.15/tutorials.html)."
   ]
  },
  {
   "cell_type": "code",
   "execution_count": null,
   "metadata": {
    "scrolled": true
   },
   "outputs": [],
   "source": [
    "#View the column names\n",
    "df_bird.columns"
   ]
  },
  {
   "cell_type": "code",
   "execution_count": null,
   "metadata": {},
   "outputs": [],
   "source": [
    "#Print out dimensions of the new dataframe\n",
    "print('Number of columns: ',df_bird.shape[1])\n",
    "print('Number of Rows: ',df_bird.shape[0])"
   ]
  },
  {
   "cell_type": "code",
   "execution_count": null,
   "metadata": {
    "scrolled": true
   },
   "outputs": [],
   "source": [
    "#Print out names and data types of dataframe columns\n",
    "print(df_bird.dtypes)"
   ]
  },
  {
   "cell_type": "markdown",
   "metadata": {},
   "source": [
    "Pandas dataframes classify data as integer, floating point (decimal numbers), or object; the last category ususally indicates data stored as strings, such as text labels or date-time data."
   ]
  },
  {
   "cell_type": "code",
   "execution_count": null,
   "metadata": {
    "scrolled": true
   },
   "outputs": [],
   "source": [
    "#View first five rows of dataframe using the 'head' method\n",
    "df_bird.head(5)"
   ]
  },
  {
   "cell_type": "markdown",
   "metadata": {},
   "source": [
    "We can now manipulate this dataframe using the various methods and functions of the Pandas library."
   ]
  },
  {
   "cell_type": "markdown",
   "metadata": {},
   "source": [
    "## Variable Information"
   ]
  },
  {
   "cell_type": "markdown",
   "metadata": {},
   "source": [
    "Look again at the list of files available, specifically those that are NOT counting data."
   ]
  },
  {
   "cell_type": "code",
   "execution_count": null,
   "metadata": {},
   "outputs": [],
   "source": [
    "#View names of files\n",
    "for file in data_json['data']['files']:\n",
    "    if( (not('countdata' in file['name'])) & (not('perpoint' in file['name'])) ):\n",
    "        print(file['name'])"
   ]
  },
  {
   "cell_type": "markdown",
   "metadata": {},
   "source": [
    "While the .zip files are packages containing multiple bird count data tables, the remaining files mostly serve to provide context to the data. The *variables* CSV file in particular contains a dataset with information on the variables used in the count data tables. This provides useful information such as units and defintions for each variable."
   ]
  },
  {
   "cell_type": "code",
   "execution_count": null,
   "metadata": {},
   "outputs": [],
   "source": [
    "#Get variables information as pandas dataframe\n",
    "for file in data_json['data']['files']:\n",
    "    if('variables' in file['name']):\n",
    "        df_variables = pd.read_csv(file['url'])"
   ]
  },
  {
   "cell_type": "code",
   "execution_count": null,
   "metadata": {},
   "outputs": [],
   "source": [
    "#View metadata and first few rows\n",
    "\n",
    "print('Number of rows: ', df_variables.shape[0])\n",
    "print('Number of columns: ',df_variables.shape[1])\n",
    "\n",
    "print('Data Columns:\\n')\n",
    "print(df_variables.dtypes)\n",
    "\n",
    "df_variables.head(5)"
   ]
  },
  {
   "cell_type": "markdown",
   "metadata": {},
   "source": [
    "The table includes a column called 'table' indicating in which file a variable appears. We want to see information on the variables for the basic bird count table, since that is the table we downloaded. We can do this using comparisons and subsetting."
   ]
  },
  {
   "cell_type": "code",
   "execution_count": null,
   "metadata": {},
   "outputs": [],
   "source": [
    "#Subset to view only variables in the basic countdata table\n",
    "df_variables[(df_variables['table'] == 'brd_countdata')&(df_variables['downloadPkg'] == 'basic')]"
   ]
  },
  {
   "cell_type": "markdown",
   "metadata": {},
   "source": [
    "### Challenge\n",
    "The Pandas *concat* function takes mulitple dataframes that have the same column names and attributes, but different rows, and combines the rows from all of the input dataframes into one output dataframe. Get basic bird count data for other months at Lower Teakettle, and combine the resulting dataframes into one with *concat*."
   ]
  },
  {
   "cell_type": "code",
   "execution_count": null,
   "metadata": {},
   "outputs": [],
   "source": []
  }
 ],
 "metadata": {
  "kernelspec": {
   "display_name": "Python 3",
   "language": "python",
   "name": "python3"
  },
  "language_info": {
   "codemirror_mode": {
    "name": "ipython",
    "version": 3
   },
   "file_extension": ".py",
   "mimetype": "text/x-python",
   "name": "python",
   "nbconvert_exporter": "python",
   "pygments_lexer": "ipython3",
   "version": "3.7.6"
  }
 },
 "nbformat": 4,
 "nbformat_minor": 4
}
