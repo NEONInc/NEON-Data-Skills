{
 "cells": [
  {
   "cell_type": "markdown",
   "metadata": {},
   "source": [
    "---\n",
    "syncID: \n",
    "title: \"Querying Location Data with NEON API and Python\"\n",
    "description: \"Querying the 'locations/' NEON API endpoint with Python and navigating the response\"\n",
    "dateCreated: 2020-04-24\n",
    "authors: Maxwell J. Burner\n",
    "contributors: \n",
    "estimatedTime:\n",
    "packagesLibraries: requests, json\n",
    "topics: api\n",
    "languagesTool: python\n",
    "dataProduct: DP1.10003.001\n",
    "code1: \n",
    "tutorialSeries: python-neon-api-series\n",
    "urlTitle: neon_api_04_locations\n",
    "---"
   ]
  },
  {
   "cell_type": "markdown",
   "metadata": {},
   "source": [
    "In this tutorial we will learn about querying the 'locations/' endpoint of the NEON API using Python."
   ]
  },
  {
   "cell_type": "markdown",
   "metadata": {},
   "source": [
    "<div id=\"ds-objectives\" markdown=\"1\">\n",
    "\n",
    "### Objectives\n",
    "After completing this tutorial, you will be able to:\n",
    "\n",
    "* Query the locations endpoint of the NEON API for data on specific NEON locations\n",
    "* Parse and navigate responses from the locations endpoint of the NEON API\n",
    "* Get spatial and geolocation data about NEON sites and plots\n",
    "* Navigate the parent-child relationships between NEON locations\n",
    "\n",
    "\n",
    "### Install Python Packages\n",
    "\n",
    "* **requests**\n",
    "* **json**\n",
    "* **pandas**\n",
    "\n",
    "\n",
    "\n",
    "</div>"
   ]
  },
  {
   "cell_type": "markdown",
   "metadata": {},
   "source": [
    "In this tutorial we will learn to use the *locations/* endpoint of the NEON API to get geoLocation information about NEON sites. While the previous tutorials all covered getting information from the *sites/*, *products/*, and *data/* endpoints, we will now begin exploring other endpoints of the NEON API.\n",
    "\n",
    "Looking through some of the data we obtained in previous tutorials, you might have noticed that references to location tend to be vague; location names and labels are used without, but lack geospatial information such as the geographic coordinates or size of the location. For more detail, we can use the *locations/* endpoint of the NEON API to get spatial information on specific locations used in NEON data collection."
   ]
  },
  {
   "cell_type": "markdown",
   "metadata": {},
   "source": [
    "## Get a Named Location\n",
    "\n",
    "The *locations/* endpoint is usually used to provide context to locations referenced in NEON data products. Let's start by looking at the bird count data for Lower Teakettle (TEAK) again."
   ]
  },
  {
   "cell_type": "code",
   "execution_count": null,
   "metadata": {},
   "outputs": [],
   "source": [
    "import requests\n",
    "import json\n",
    "import pandas as pd"
   ]
  },
  {
   "cell_type": "code",
   "execution_count": null,
   "metadata": {},
   "outputs": [],
   "source": [
    "#Define API call componenets\n",
    "SERVER = 'http://data.neonscience.org/api/v0/'\n",
    "SITECODE = 'TEAK'\n",
    "PRODUCTCODE = 'DP1.10003.001'"
   ]
  },
  {
   "cell_type": "markdown",
   "metadata": {},
   "source": [
    "Again, let's get the basic bird count data for June 2018. We read the data file to a dataframe, then check the columns' names and data types."
   ]
  },
  {
   "cell_type": "code",
   "execution_count": null,
   "metadata": {},
   "outputs": [],
   "source": [
    "#Request data file list for 2018-04\n",
    "data_request = requests.get(SERVER+'data/'+PRODUCTCODE+'/'+SITECODE+'/'+'2018-06')\n",
    "data_json = data_request.json()"
   ]
  },
  {
   "cell_type": "code",
   "execution_count": null,
   "metadata": {},
   "outputs": [],
   "source": [
    "for file in data_json['data']['files']:\n",
    "    if('count' in file['name']):\n",
    "        if('basic' in file['name']):\n",
    "            bird_url = file['url']\n",
    "\n",
    "df_bird = pd.read_csv(bird_url)\n",
    "print(df_bird.dtypes)"
   ]
  },
  {
   "cell_type": "markdown",
   "metadata": {},
   "source": [
    "\n",
    "Notice the 'namedLocation' attribute/column in our dataframe. Let's look at some of the values."
   ]
  },
  {
   "cell_type": "code",
   "execution_count": null,
   "metadata": {},
   "outputs": [],
   "source": [
    "df_bird['namedLocation'][0:5]"
   ]
  },
  {
   "cell_type": "markdown",
   "metadata": {},
   "source": [
    "## Querying Locations\n",
    "\n",
    "We can query the location values found in this column, for example 'SJER_013.birdGrid.brd', using the *locations/* endpoint in the NEON API. This will allow us to obtain detailed geospatial data on that particular location. \n",
    "\n",
    "First we'll set up the request and read in the JSON data."
   ]
  },
  {
   "cell_type": "code",
   "execution_count": null,
   "metadata": {
    "scrolled": true
   },
   "outputs": [],
   "source": [
    "loc_request = requests.get(SERVER+'locations/'+'TEAK_010.birdGrid.brd')\n",
    "loc_json = loc_request.json()"
   ]
  },
  {
   "cell_type": "markdown",
   "metadata": {},
   "source": [
    "Similar to other JSON API responses, this contains a single 'data' element which is a dictionary. Let's also look at the keys of 'data'."
   ]
  },
  {
   "cell_type": "code",
   "execution_count": null,
   "metadata": {
    "scrolled": true
   },
   "outputs": [],
   "source": [
    "for key in loc_json['data'].keys():\n",
    "    print(key)"
   ]
  },
  {
   "cell_type": "markdown",
   "metadata": {},
   "source": [
    "First off, the data includes some basic titles and categories for the location."
   ]
  },
  {
   "cell_type": "code",
   "execution_count": null,
   "metadata": {},
   "outputs": [],
   "source": [
    "print('Description: ',loc_json['data']['locationDescription'])\n",
    "print('Name: ',loc_json['data']['locationName'])\n",
    "print('Type: ',loc_json['data']['locationType'])\n",
    "print('Domain: ',loc_json['data']['domainCode'])"
   ]
  },
  {
   "cell_type": "markdown",
   "metadata": {},
   "source": [
    "The actual spatial location data includes latitude, longitude, elevation, and Universal Transverse Mercator (UTM) Coordinates."
   ]
  },
  {
   "cell_type": "code",
   "execution_count": null,
   "metadata": {},
   "outputs": [],
   "source": [
    "print('Latitude: ',loc_json['data']['locationDecimalLatitude'])\n",
    "print('Longitude: ',loc_json['data']['locationDecimalLongitude'])\n",
    "print('Elevation: ',loc_json['data']['locationElevation'])\n",
    "print('UTM Easting: ',loc_json['data']['locationUtmEasting'])\n",
    "print('UTM Northing: ',loc_json['data']['locationUtmNorthing'])\n",
    "print('Hemisphere: ', loc_json['data']['locationUtmHemisphere'])\n",
    "print('UTM Zone: ', loc_json['data']['locationUtmZone'])"
   ]
  },
  {
   "cell_type": "markdown",
   "metadata": {},
   "source": [
    "Let's take a closer look at the 'locationProperties' element. This is a list of dictionaries, where each dict has one 'locationPropertyName' element and a corresponding 'locationPropertyValue' element. These together provide a more detailed description of the properties of the location."
   ]
  },
  {
   "cell_type": "code",
   "execution_count": null,
   "metadata": {},
   "outputs": [],
   "source": [
    "#Print location property names and values\n",
    "for locationProperty in loc_json['data']['locationProperties']:\n",
    "    print(locationProperty['locationPropertyName'][9:], #trim 'Value for ' off beginning of each locationPropertyName\n",
    "          ': ',locationProperty['locationPropertyValue'])"
   ]
  },
  {
   "cell_type": "markdown",
   "metadata": {},
   "source": [
    "Finally there's the name and URLs for the locations' parent location and children locations, if any. The parent location, in this case 'TEAK', is a location of which the current location is a part."
   ]
  },
  {
   "cell_type": "code",
   "execution_count": null,
   "metadata": {},
   "outputs": [],
   "source": [
    "#Print name and API url of parent location\n",
    "print(loc_json['data']['locationParent'], loc_json['data']['locationParentUrl'])"
   ]
  },
  {
   "cell_type": "markdown",
   "metadata": {},
   "source": [
    "The children locations are smaller areas within the current location; in our example these are points within the bird grid plot. Requesting data on the children locations through the *locations/* endpoint allows us to get spatial data on a finer resolution."
   ]
  },
  {
   "cell_type": "code",
   "execution_count": null,
   "metadata": {},
   "outputs": [],
   "source": [
    "#Print names and API urls of child locations\n",
    "for child in zip(loc_json['data']['locationChildren'], loc_json['data']['locationChildrenUrls']):\n",
    "    print(child[0], child[1])"
   ]
  }
 ],
 "metadata": {
  "kernelspec": {
   "display_name": "Python 3",
   "language": "python",
   "name": "python3"
  },
  "language_info": {
   "codemirror_mode": {
    "name": "ipython",
    "version": 3
   },
   "file_extension": ".py",
   "mimetype": "text/x-python",
   "name": "python",
   "nbconvert_exporter": "python",
   "pygments_lexer": "ipython3",
   "version": "3.7.6"
  }
 },
 "nbformat": 4,
 "nbformat_minor": 4
}
