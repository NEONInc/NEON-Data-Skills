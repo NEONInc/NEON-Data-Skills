{
 "cells": [
  {
   "cell_type": "markdown",
   "metadata": {},
   "source": [
    "---\n",
    "syncID: \n",
    "title: \"Querying Taxonomy Data with NEON API and Python\"\n",
    "description: \"Querying the 'taxonomy/' NEON API endpoint with Python and navigating the response\"\n",
    "dateCreated: 2020-04-24\n",
    "authors: Maxwell J. Burner\n",
    "contributors: Donal O'Leary\n",
    "estimatedTime:\n",
    "packagesLibraries: requests, json, pandas\n",
    "topics: api\n",
    "languagesTool: python\n",
    "dataProduct:\n",
    "code1: \n",
    "tutorialSeries: python-neon-api-series\n",
    "urlTitle: neon_api_taxonomy\n",
    "---"
   ]
  },
  {
   "cell_type": "markdown",
   "metadata": {},
   "source": [
    "In this tutorial we will learn to query the *taxonomy/* endpoint of the NEON API using Python."
   ]
  },
  {
   "cell_type": "markdown",
   "metadata": {},
   "source": [
    "<div id=\"ds-objectives\" markdown=\"1\">\n",
    "\n",
    "### Objectives\n",
    "After completing this tutorial, you will be able to:\n",
    "\n",
    "* Query the taxonomy endpoint of the NEON API to obtain taxonomic data\n",
    "* Search NEON taxonomic data using different criteria\n",
    "* Use the various options of the taxonomy endpoint to customize the results of a call\n",
    "* Navigate the data returned by a call to the taxonomy endpoint of the NEON API\n",
    "* Navigate the parent-child relationships between NEON locations\n",
    "\n",
    "\n",
    "### Install Python Packages\n",
    "\n",
    "* **requests**\n",
    "* **json** \n",
    "* **pandas**\n",
    "\n",
    "\n",
    "\n",
    "</div>"
   ]
  },
  {
   "cell_type": "markdown",
   "metadata": {},
   "source": [
    "In this tutorial we will learn to use Python and the *taxonomy/* endpoint of the NEON API to query information from NEON's taxonomic data. \n",
    "\n",
    "NEON maintains a great deal of taxonomic data, used in species identification during field observations and laboratory processing of samples. NEON taxonomy data can be obtained through the API, or through an interactive interface called the [Taxon Viewer](http://data.neonscience.org/static/taxon.html). Just as the *locations/* endpoint can provide more context for a location referenced in NEON studies, the *taxonomy/* endpoint can provide additional information on species identified in NEON observational data.\n",
    "\n",
    "\n"
   ]
  },
  {
   "cell_type": "markdown",
   "metadata": {},
   "source": [
    "## Making the Request\n",
    "\n",
    "Unlike other endpoints, the *locations/* endpoint does not take a single target in its URL. Instead, the query can make use of a number of different options, which are specified in the URL string itself. Each option is assigned a value with an equals sign, for example 'family=Pineceae'; these are placed after a question mark '?' at the end of the endpoint URL, which signals a 'query string' will follow. Multiple query options are separated by an ampersand '&' in the URL string.\n",
    "\n",
    "Each call must have one of the following options, but cannot use multiple:\n",
    "* **taxonTypeCode**, a four-letter that indicates which NEON taxonomy is being queried, such as FISH or BIRD\n",
    "* One of the major taxonomic ranks from genus through kingdom\n",
    "* **scientificName** a specific name of format genus + specific epithet + (authority); this is used to search for an exact result\n",
    "\n",
    "In addition, any number of the following options can also be added to modify the results of the query:\n",
    "* **verbose** takes a 'true' for a more detailed response or 'false' for a shorter response\n",
    "* **offset** takes an integer indicating the number of starting rows of the list of results to skip; the default is 0\n",
    "* **limit** takes an integer indicating the maximum length of the list returned; the default is 50\n",
    "\n",
    "Let's request data on up to 20 members of the Pine family, skipping the first 11, with the short response."
   ]
  },
  {
   "cell_type": "code",
   "execution_count": null,
   "metadata": {},
   "outputs": [],
   "source": [
    "import requests\n",
    "import json"
   ]
  },
  {
   "cell_type": "code",
   "execution_count": null,
   "metadata": {},
   "outputs": [],
   "source": [
    "#Choose values for each option\n",
    "SERVER = 'http://data.neonscience.org/api/v0/'\n",
    "FAMILY = 'Pinaceae'\n",
    "OFFSET = 11\n",
    "LIMIT = 20\n",
    "VERBOSE = 'false'"
   ]
  },
  {
   "cell_type": "code",
   "execution_count": null,
   "metadata": {},
   "outputs": [],
   "source": [
    "#Create 'options' portion of API call\n",
    "OPTIONS = '?family={family}&offset={offset}&limit={limit}&verbose={verbose}'.format(\n",
    "    family = FAMILY,\n",
    "    offset = OFFSET,\n",
    "    limit = LIMIT,\n",
    "    verbose = VERBOSE)\n",
    "\n",
    "#Print out the completed options string. This is the query string that is appended to the endpoint URL in the taxonomy API call\n",
    "print(OPTIONS)"
   ]
  },
  {
   "cell_type": "code",
   "execution_count": null,
   "metadata": {},
   "outputs": [],
   "source": [
    "#Make request\n",
    "pine_req = requests.get(SERVER+'taxonomy/'+OPTIONS)\n",
    "pine_json = pine_req.json()"
   ]
  },
  {
   "cell_type": "markdown",
   "metadata": {},
   "source": [
    "## Navigating the Response"
   ]
  },
  {
   "cell_type": "markdown",
   "metadata": {},
   "source": [
    "Unlike most API call responses, the taxonomy JSON at the uppermost level has more elements that just 'data'. The other elements include:\n",
    "\n",
    "- **count**- how many species were returned in this response\n",
    "- **total**- how many species entries are available from NEON (if offset was zero and limit was infinity). \n",
    "- **prev**- the API url that could get the 'previous' set of entries (if offset was not zero) matching the other parameters.\n",
    "- **next**- the API url that could get the next set of entries (if limit was not infinity, and the limit parameter resulted in some entries being excluded).\n",
    "\n",
    "The **prev** and **next** urls could be used to effectively break up a larger API call into several segments; we ask for a smaller set than we actually want, then use the \"next\" url to get the next set of entries in a seperate call."
   ]
  },
  {
   "cell_type": "code",
   "execution_count": null,
   "metadata": {
    "scrolled": true
   },
   "outputs": [],
   "source": [
    "#Print out values in the top level of the pine_json taxonomy dictionary, other than the 'data' entry.\n",
    "for key in pine_json.keys():\n",
    "    if(key != 'data'):\n",
    "        print(key,':',pine_json[key])"
   ]
  },
  {
   "cell_type": "markdown",
   "metadata": {},
   "source": [
    " Within the '**data**' element is a list with entries for each taxa returned by the call. Each species entry is a dictionary with atttributes for:\n",
    "\n",
    "- The full taxonomy, with a separate attribute for each taxonomic level\n",
    "- The NEON taxonomy type the data was obtained from (taxonTypeCode)\n",
    "- The short taxon code used by NEON (taxonID, acceptedTaxonID)\n",
    "- The author of the scientific name\n",
    "- The common/vernacular name, if any\n",
    "- The reference text used (nameAccordingToID)"
   ]
  },
  {
   "cell_type": "code",
   "execution_count": null,
   "metadata": {
    "scrolled": true
   },
   "outputs": [],
   "source": [
    "#Print data for one species\n",
    "sample = pine_json['data'][7]\n",
    "for key in sample.keys():\n",
    "    print(\"{:28}: {}\".format(key, sample[key]))"
   ]
  },
  {
   "cell_type": "markdown",
   "metadata": {},
   "source": [
    "The \"dwc\" at the beginning of many atttribute names indicates that the terms used for each field are matched to those used by Darwin Core, an official standard maintained for biodiversity reference. The \"gbif\" refers to the Global Biodiversity Information Facility.\n",
    "\n",
    "We can also print vernacular names alongside the scientific names of each species entry. "
   ]
  },
  {
   "cell_type": "code",
   "execution_count": null,
   "metadata": {
    "scrolled": true
   },
   "outputs": [],
   "source": [
    "for species in pine_json['data']:\n",
    "    print(\"{:19}| {}\".format(species['dwc:vernacularName'], species['dwc:scientificName']))"
   ]
  },
  {
   "cell_type": "markdown",
   "metadata": {},
   "source": [
    "## Using Taxon Type Code"
   ]
  },
  {
   "cell_type": "markdown",
   "metadata": {},
   "source": [
    "Let's make another API call, using taxonTypeCode this time. We'll look through some of the NEON Fish Taxonomy, but try the verbose description."
   ]
  },
  {
   "cell_type": "code",
   "execution_count": null,
   "metadata": {},
   "outputs": [],
   "source": [
    "#Set options\n",
    "SERVER = 'http://data.neonscience.org/api/v0/'\n",
    "TAXONCODE = 'FISH'\n",
    "OFFSET = 0\n",
    "LIMIT = 20\n",
    "VERBOSE = 'true'"
   ]
  },
  {
   "cell_type": "code",
   "execution_count": null,
   "metadata": {},
   "outputs": [],
   "source": [
    "#Create 'options' portion of API call\n",
    "OPTIONS = '?taxonTypeCode={taxoncode}&offset={offset}&limit={limit}&verbose={verbose}'.format(\n",
    "    taxoncode = TAXONCODE,\n",
    "    offset = OFFSET,\n",
    "    limit = LIMIT,\n",
    "    verbose = VERBOSE)\n",
    "print(OPTIONS)"
   ]
  },
  {
   "cell_type": "code",
   "execution_count": null,
   "metadata": {},
   "outputs": [],
   "source": [
    "#Make request\n",
    "fish_req = requests.get(SERVER+'taxonomy/'+OPTIONS)\n",
    "fish_json = fish_req.json()"
   ]
  },
  {
   "cell_type": "markdown",
   "metadata": {},
   "source": [
    "Choose an arbitrary species and see what data its dictionary contains."
   ]
  },
  {
   "cell_type": "code",
   "execution_count": null,
   "metadata": {},
   "outputs": [],
   "source": [
    "#Print data for one species in the result\n",
    "sample = fish_json['data'][7]\n",
    "for key in sample.keys():\n",
    "    print(\"{:28}: {}\".format(key, sample[key]))"
   ]
  },
  {
   "cell_type": "markdown",
   "metadata": {},
   "source": [
    "This is a more verbose entry than what we've seen, so there are more attributes, though many lack values. The 'gbif' attributes indicate terms matched to those used by the Global Biodiversity Forum."
   ]
  },
  {
   "cell_type": "code",
   "execution_count": null,
   "metadata": {},
   "outputs": [],
   "source": [
    "#Print common and scientific name for each fish\n",
    "for species in fish_json['data']:\n",
    "    print(species['dwc:vernacularName'],'|', species['dwc:scientificName'])"
   ]
  },
  {
   "cell_type": "markdown",
   "metadata": {},
   "source": [
    "## Finding a Specific Species\n",
    "\n",
    "Many NEON data products, such as the land bird breeding counts used in a previous tutorial, include species idetnification data in the form of species name. We can use the NEON *taxonomy/* endpoint to search for a specific species mentioned in the NEON data. Let's look at the 2018-06 Lower Teakettle Bird Counts again, and get more detail on one of the observed species."
   ]
  },
  {
   "cell_type": "code",
   "execution_count": null,
   "metadata": {},
   "outputs": [],
   "source": [
    "import pandas as pd"
   ]
  },
  {
   "cell_type": "code",
   "execution_count": null,
   "metadata": {},
   "outputs": [],
   "source": [
    "#Establish target for API search\n",
    "SITECODE = 'TEAK'\n",
    "PRODUCTCODE = 'DP1.10003.001'"
   ]
  },
  {
   "cell_type": "code",
   "execution_count": null,
   "metadata": {},
   "outputs": [],
   "source": [
    "#Get data on available files\n",
    "bird_request = requests.get(SERVER+'data/'+PRODUCTCODE+'/'+SITECODE+'/'+'2018-06')\n",
    "bird_json = bird_request.json()"
   ]
  },
  {
   "cell_type": "code",
   "execution_count": null,
   "metadata": {},
   "outputs": [],
   "source": [
    "#Extract the URL for just the 'basic' package of the 'count' data, \n",
    "#and read that csv into a pandas data.frame falled 'bird_df'\n",
    "for file in bird_json['data']['files']:\n",
    "    if('count' in file['name']):\n",
    "        if('basic' in file['name']):\n",
    "            bird_df = pd.read_csv(file['url'])"
   ]
  },
  {
   "cell_type": "code",
   "execution_count": null,
   "metadata": {},
   "outputs": [],
   "source": [
    "#View all columns of the first 5 rows\n",
    "bird_df.head()"
   ]
  },
  {
   "cell_type": "markdown",
   "metadata": {},
   "source": [
    "The *unique* method for Pandas series, which include individual columns of dataframes, returns the series with all duplicate values removed."
   ]
  },
  {
   "cell_type": "code",
   "execution_count": null,
   "metadata": {},
   "outputs": [],
   "source": [
    "#Use pandas .unique method to see what species were observed\n",
    "bird_df['scientificName'].unique()"
   ]
  },
  {
   "cell_type": "markdown",
   "metadata": {},
   "source": [
    "More information on 'Troglodytes aedon' would be interesting. When using a scientific name in a taxonomy API call, which will be encoded as a URL, we replace any spaces in the name with '%20'; also, remember to capitalize the genus name, but not the species name."
   ]
  },
  {
   "cell_type": "code",
   "execution_count": null,
   "metadata": {},
   "outputs": [],
   "source": [
    "#Make request \n",
    "aedon_request = requests.get(SERVER+'taxonomy/'+'?scientificname=Troglodytes%20aedon')\n",
    "aedon_json = aedon_request.json()"
   ]
  },
  {
   "cell_type": "markdown",
   "metadata": {},
   "source": [
    "Because only a single result was returned, count and total entries will be one, and there will be no urls for the previous or next batch of entries.\n",
    "\n",
    "It is important to note that the data element is still treated as a list; it is simply a list with only one element."
   ]
  },
  {
   "cell_type": "code",
   "execution_count": null,
   "metadata": {},
   "outputs": [],
   "source": [
    "#Print elements of JSON other than data\n",
    "for key in aedon_json.keys():\n",
    "    if(key != 'data'):\n",
    "        print(key,':',aedon_json[key])\n",
    "\n",
    "#Print elements of species dict in data list\n",
    "for key in aedon_json['data'][0].keys():\n",
    "    print(key,':',aedon_json['data'][0][key])"
   ]
  },
  {
   "cell_type": "code",
   "execution_count": null,
   "metadata": {},
   "outputs": [],
   "source": []
  }
 ],
 "metadata": {
  "kernelspec": {
   "display_name": "Python 3",
   "language": "python",
   "name": "python3"
  },
  "language_info": {
   "codemirror_mode": {
    "name": "ipython",
    "version": 3
   },
   "file_extension": ".py",
   "mimetype": "text/x-python",
   "name": "python",
   "nbconvert_exporter": "python",
   "pygments_lexer": "ipython3",
   "version": "3.7.6"
  }
 },
 "nbformat": 4,
 "nbformat_minor": 4
}
